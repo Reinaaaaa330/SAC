{
  "cells": [
    {
      "cell_type": "code",
      "source": [
        "from scraper import *\n",
        "from downloader import *\n",
        "from analytics import *"
      ],
      "outputs": [],
      "execution_count": 1,
      "metadata": {
        "collapsed": true
      }
    },
    {
      "cell_type": "markdown",
      "source": [
        "# 1. 数据获取\n",
        "## 1.1 机构"
      ],
      "metadata": {}
    },
    {
      "cell_type": "code",
      "source": [
        "%%time\n",
        "df_companies = Company(headless=False).get_company_list(save_to_local=False)"
      ],
      "outputs": [],
      "execution_count": null,
      "metadata": {}
    },
    {
      "cell_type": "markdown",
      "source": [
        "## 1.2 人员列表\n",
        "所有公司人员列表运行时间"
      ],
      "metadata": {}
    },
    {
      "cell_type": "code",
      "source": [
        "%%time\n",
        "# 单个公司人员列表：不含保存到本地的功能\n",
        "df_people = People(headless=True).get_people_list(company_ID='1999152')"
      ],
      "outputs": [],
      "execution_count": null,
      "metadata": {
        "collapsed": false,
        "outputHidden": false,
        "inputHidden": false
      }
    },
    {
      "cell_type": "code",
      "source": [
        "%%time\n",
        "# 所有公司人员列表：默认自动保存到本地\n",
        "## 去除：单个公司的df_people的display和tqdm的每页提示；\n",
        "## 保留：总的tqdm和执行到当期的公司名称和页数提示\n",
        "## 稳定性：每爬完一个公司都保存，保证断点续传；放到pickle？\n",
        "df_people_full = People(headless=False).get_people_list_full(save_to_local=False, sleep_time=1)"
      ],
      "outputs": [],
      "execution_count": null,
      "metadata": {
        "collapsed": false,
        "outputHidden": true,
        "inputHidden": false
      }
    },
    {
      "cell_type": "code",
      "source": [
        "df_people_full.to_json('列表_从业人员.json',orient='table')"
      ],
      "outputs": [],
      "execution_count": null,
      "metadata": {
        "collapsed": false,
        "outputHidden": false,
        "inputHidden": false
      }
    },
    {
      "cell_type": "code",
      "source": [
        "# 二次读取数据\n",
        "df_people_full = pd.read_csv('列表_从业人员.csv', encoding='gb18030')#.iloc[0,6]\n",
        "df_people_full.head()"
      ],
      "outputs": [],
      "execution_count": null,
      "metadata": {
        "collapsed": false,
        "outputHidden": false,
        "inputHidden": false
      }
    },
    {
      "cell_type": "markdown",
      "source": [
        "## 1.3 个人信息\n",
        "只涉及\n",
        "1. 注册变更记录\n",
        "2. 照片路径"
      ],
      "metadata": {}
    },
    {
      "cell_type": "code",
      "source": [
        "%%time\n",
        "# 保存单个人的照片\n",
        "## PPP_ID不时更新，需要定期更新df_people_full\n",
        "People().get_person_info_img('76B6EA9DB8E33C0DE053D651A8C06CD1')"
      ],
      "outputs": [],
      "execution_count": null,
      "metadata": {
        "collapsed": false,
        "outputHidden": false,
        "inputHidden": false
      }
    },
    {
      "cell_type": "markdown",
      "source": [
        "# 2. 分析：基础\n",
        "## 2.1 性别比率"
      ],
      "metadata": {}
    },
    {
      "cell_type": "code",
      "source": [
        "Basic().basic_gender()[-2][1]['data']"
      ],
      "outputs": [],
      "execution_count": null,
      "metadata": {
        "collapsed": false,
        "outputHidden": false,
        "inputHidden": false
      }
    },
    {
      "cell_type": "markdown",
      "source": [
        "## 2.2 行业新增人数"
      ],
      "metadata": {
        "collapsed": false,
        "outputHidden": false,
        "inputHidden": false
      }
    },
    {
      "cell_type": "code",
      "source": [
        "Basic().basic_date_registration()[0][1]['data'][-6:-1] # 最近五天"
      ],
      "outputs": [],
      "execution_count": null,
      "metadata": {
        "collapsed": false,
        "outputHidden": false,
        "inputHidden": false
      }
    },
    {
      "cell_type": "markdown",
      "source": [
        "## 2.3 执业类型分类"
      ],
      "metadata": {}
    },
    {
      "cell_type": "code",
      "source": [
        "Basic().basic_role()[0][1]['data']"
      ],
      "outputs": [],
      "execution_count": null,
      "metadata": {
        "collapsed": false,
        "outputHidden": false,
        "inputHidden": false
      }
    },
    {
      "cell_type": "markdown",
      "source": [
        "## 2.4 行业流失人数"
      ],
      "metadata": {}
    },
    {
      "cell_type": "markdown",
      "source": [
        "## 2.5 学历分析"
      ],
      "metadata": {}
    },
    {
      "cell_type": "code",
      "source": [
        "Basic().basic_degree()[0][1]['data']"
      ],
      "outputs": [],
      "execution_count": null,
      "metadata": {}
    },
    {
      "cell_type": "markdown",
      "source": [
        "## 2.6 证券公司分析"
      ],
      "metadata": {}
    },
    {
      "cell_type": "code",
      "source": [
        "Basic().basic_company()[0][1]['data'][:5]"
      ],
      "outputs": [
        {
          "output_type": "execute_result",
          "execution_count": 4,
          "data": {
            "text/plain": [
              "[{'执业机构': '广发证券股份有限公司', '人数': 9963},\n",
              " {'执业机构': '中信证券股份有限公司', '人数': 8937},\n",
              " {'执业机构': '国泰君安证券股份有限公司', '人数': 8879},\n",
              " {'执业机构': '国信证券股份有限公司', '人数': 8819},\n",
              " {'执业机构': '中信建投证券股份有限公司', '人数': 8434}]"
            ]
          },
          "metadata": {}
        }
      ],
      "execution_count": 4,
      "metadata": {
        "collapsed": false,
        "outputHidden": false,
        "inputHidden": false
      }
    },
    {
      "cell_type": "markdown",
      "source": [
        "# 3. 分析：高级\n",
        "## 3.1 高分妹发掘器"
      ],
      "metadata": {}
    },
    {
      "cell_type": "code",
      "source": [
        "df_candidates = df_people_full[df_people_full['性别'] == '女'].sort_values(by=['证书取得日期'])\n",
        "# 获得照片路径\n",
        "\n",
        "# 颜值判定：使用腾讯人脸识别API判定魅力\n",
        "\n# 下载高颜值的女生照片并重命名"
      ],
      "outputs": [],
      "execution_count": null,
      "metadata": {
        "collapsed": false,
        "outputHidden": false,
        "inputHidden": false
      }
    },
    {
      "cell_type": "code",
      "source": [
        "df_candidates"
      ],
      "outputs": [],
      "execution_count": null,
      "metadata": {
        "collapsed": false,
        "outputHidden": false,
        "inputHidden": false
      }
    }
  ],
  "metadata": {
    "kernelspec": {
      "name": "python3",
      "language": "python",
      "display_name": "Python 3"
    },
    "language_info": {
      "name": "python",
      "version": "3.6.6",
      "mimetype": "text/x-python",
      "codemirror_mode": {
        "name": "ipython",
        "version": 3
      },
      "pygments_lexer": "ipython3",
      "nbconvert_exporter": "python",
      "file_extension": ".py"
    },
    "kernel_info": {
      "name": "python3"
    },
    "nteract": {
      "version": "0.11.7"
    }
  },
  "nbformat": 4,
  "nbformat_minor": 0
}