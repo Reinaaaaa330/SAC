{
  "cells": [
    {
      "cell_type": "code",
      "source": [
        "from scraper import *"
      ],
      "outputs": [],
      "execution_count": 1,
      "metadata": {
        "collapsed": true
      }
    },
    {
      "cell_type": "markdown",
      "source": [
        "# 机构"
      ],
      "metadata": {}
    },
    {
      "cell_type": "code",
      "source": [
        "df_companies = Company().get_company_list()"
      ],
      "outputs": [],
      "execution_count": null,
      "metadata": {}
    },
    {
      "cell_type": "markdown",
      "source": [
        "# 人员"
      ],
      "metadata": {}
    },
    {
      "cell_type": "code",
      "source": [
        "def get_people_list(company_ID):\n",
        "    # 启动浏览器\n",
        "    # TODO：添加Headless选项\n",
        "    driver = webdriver.Chrome()\n",
        "    driver.get('http://person.sac.net.cn/pages/registration/sac-publicity-finish.html?aoiId='+company_ID)\n",
        "\n",
        "    # 确认页数\n",
        "    def get_pages_num(driver):\n",
        "        pages_num = 0 # 保证即便确认页数错误，仍然可以获得第一页而不会终止程序\n",
        "        try:\n",
        "            pages_num = int(float(driver.find_element_by_id('sp_1').text.strip()))\n",
        "        except Exception as e:\n",
        "            print ('请修改确认页数的ID标签，错误代码为：', e)\n",
        "        finally:\n",
        "            return pages_num\n",
        "        \n",
        "    # 翻页\n",
        "    def change_page(driver):\n",
        "        driver.find_element_by_xpath(u\"(.//*[normalize-space(text()) and normalize-space(.)='无'])[100]/following::span[6]\").click()\n",
        "        time.sleep(2) # 防止运行过快被封\n",
        "\n",
        "    # 爬取单页\n",
        "    def parser(driver, data):\n",
        "        content = driver.page_source.encode('utf-8')\n",
        "        soup = BeautifulSoup(content, 'lxml')\n",
        "        table = soup.find('div', class_='listable_out').find('table',class_='ui-jqgrid-htable')\n",
        "\n",
        "        # 得到表格标题\n",
        "        list_columns = []\n",
        "        for column in table.find_all('tr')[0].find_all('th'):\n",
        "            list_columns.append(column.get_text().strip())\n",
        "\n",
        "        # 得到表格数据\n",
        "        for row in soup.find('div', class_='ui-jqgrid-bdiv').find_all('tr', id=True):\n",
        "            cols = row.find_all('td')\n",
        "            cols = [ele.text.strip() for ele in cols]\n",
        "            data.append([ele for ele in cols if ele])  # Get rid of empty values\n",
        "\n",
        "        return data, list_columns\n",
        "\n",
        "    # 主程序部分\n",
        "    pages_num = get_pages_num(driver)\n",
        "\n",
        "    data = []\n",
        "    data, list_columns = parser(driver, data)\n",
        "    for i in tqdm(range(pages_num-1)): ## 最后一页不用点，可以换成while循环更优雅\n",
        "        change_page(driver)\n",
        "        data, list_columns = parser(driver, data)\n",
        "\n",
        "    driver.quit()\n",
        "    df_companies = pd.DataFrame(data, columns=list_columns)\n",
        "\n",
        "    # 描述表格数据\n",
        "    print('表格共有{}列，{}行。'.format(len(df_companies.columns), len(df_companies)))\n",
        "    display(df_companies)\n",
        "    return df_companies"
      ],
      "outputs": [],
      "execution_count": 24,
      "metadata": {
        "collapsed": false,
        "outputHidden": false,
        "inputHidden": false
      }
    },
    {
      "cell_type": "code",
      "source": [
        "df_companies = get_people_list(company_ID='1999139')"
      ],
      "outputs": [
        {
          "output_type": "stream",
          "name": "stdout",
          "text": [
            "请修改确认页数的ID标签，错误代码为： could not convert string to float: \n",
            "表格共有11列，0行。\n"
          ]
        },
        {
          "output_type": "stream",
          "name": "stderr",
          "text": [
            "0it [00:00, ?it/s]\n"
          ]
        },
        {
          "output_type": "display_data",
          "data": {
            "text/plain": [
              "Empty DataFrame\n",
              "Columns: [PPP_ID, 姓名, 性别, 学历, 证书编号, 执业机构, 执业岗位, 证书取得日期, 证书有效截止日期, 注册变更记录, 诚信记录]\n",
              "Index: []"
            ],
            "text/html": [
              "<div>\n",
              "<style scoped>\n",
              "    .dataframe tbody tr th:only-of-type {\n",
              "        vertical-align: middle;\n",
              "    }\n",
              "\n",
              "    .dataframe tbody tr th {\n",
              "        vertical-align: top;\n",
              "    }\n",
              "\n",
              "    .dataframe thead th {\n",
              "        text-align: right;\n",
              "    }\n",
              "</style>\n",
              "<table border=\"1\" class=\"dataframe\">\n",
              "  <thead>\n",
              "    <tr style=\"text-align: right;\">\n",
              "      <th></th>\n",
              "      <th>PPP_ID</th>\n",
              "      <th>姓名</th>\n",
              "      <th>性别</th>\n",
              "      <th>学历</th>\n",
              "      <th>证书编号</th>\n",
              "      <th>执业机构</th>\n",
              "      <th>执业岗位</th>\n",
              "      <th>证书取得日期</th>\n",
              "      <th>证书有效截止日期</th>\n",
              "      <th>注册变更记录</th>\n",
              "      <th>诚信记录</th>\n",
              "    </tr>\n",
              "  </thead>\n",
              "  <tbody>\n",
              "  </tbody>\n",
              "</table>\n",
              "</div>"
            ]
          },
          "metadata": {}
        }
      ],
      "execution_count": 25,
      "metadata": {
        "collapsed": false,
        "outputHidden": false,
        "inputHidden": false
      }
    },
    {
      "cell_type": "code",
      "source": [
        "# 调试代码\n",
        "\n",
        "driver = webdriver.Chrome()\n",
        "driver.get('http://person.sac.net.cn/pages/registration/sac-publicity-finish.html?aoiId='+'1999139')\n",
        "\n",
        "# 确认页数\n",
        "def get_pages_num(driver):\n",
        "    pages_num = 0 # 保证即便确认页数错误，仍然可以获得第一页而不会终止程序\n",
        "    try:\n",
        "        print (driver.find_element_by_id('sp_1').text.strip())\n",
        "        pages_num = int(float(driver.find_element_by_id('sp_1').text.strip()))\n",
        "    except Exception as e:\n",
        "        print ('请修改确认页数的ID标签，错误代码为：', e)\n",
        "    finally:\n",
        "        return pages_num\n",
        "\n",
        "# 翻页\n",
        "def change_page(driver):\n",
        "    driver.find_element_by_xpath(u\"(.//*[normalize-space(text()) and normalize-space(.)='无'])[100]/following::span[6]\").click()\n",
        "    time.sleep(2) # 防止运行过快被封\n",
        "\n",
        "# 爬取单页\n",
        "def parser(driver, data):\n",
        "    content = driver.page_source.encode('utf-8')\n",
        "    soup = BeautifulSoup(content, 'lxml')\n",
        "    table = soup.find('div', class_='listable_out').find('table',class_='ui-jqgrid-htable')\n",
        "\n",
        "    # 得到表格标题\n",
        "    list_columns = []\n",
        "    for column in table.find_all('tr')[0].find_all('th'):\n",
        "        list_columns.append(column.get_text().strip())\n",
        "\n",
        "    # 得到表格数据\n",
        "    for row in soup.find('div', class_='ui-jqgrid-bdiv').find_all('tr', id=True):\n",
        "        cols = row.find_all('td')\n",
        "        cols = [ele.text.strip() for ele in cols]\n",
        "        data.append([ele for ele in cols if ele])  # Get rid of empty values\n",
        "\n",
        "    return data, list_columns\n",
        "\n",
        "# 主程序部分\n",
        "pages_num = get_pages_num(driver)"
      ],
      "outputs": [
        {
          "output_type": "stream",
          "name": "stdout",
          "text": [
            "\n",
            "请修改确认页数的ID标签，错误代码为： could not convert string to float: \n"
          ]
        }
      ],
      "execution_count": 28,
      "metadata": {
        "collapsed": false,
        "outputHidden": false,
        "inputHidden": false
      }
    },
    {
      "cell_type": "code",
      "source": [
        "float(driver.find_element_by_id('sp_1').text.strip())"
      ],
      "outputs": [
        {
          "output_type": "execute_result",
          "execution_count": 30,
          "data": {
            "text/plain": [
              "8.0"
            ]
          },
          "metadata": {}
        }
      ],
      "execution_count": 30,
      "metadata": {
        "collapsed": false,
        "outputHidden": false,
        "inputHidden": false
      }
    }
  ],
  "metadata": {
    "kernelspec": {
      "name": "python3",
      "language": "python",
      "display_name": "Python 3"
    },
    "language_info": {
      "name": "python",
      "version": "3.6.5",
      "mimetype": "text/x-python",
      "codemirror_mode": {
        "name": "ipython",
        "version": 3
      },
      "pygments_lexer": "ipython3",
      "nbconvert_exporter": "python",
      "file_extension": ".py"
    },
    "kernel_info": {
      "name": "python3"
    },
    "nteract": {
      "version": "0.11.7"
    }
  },
  "nbformat": 4,
  "nbformat_minor": 0
}