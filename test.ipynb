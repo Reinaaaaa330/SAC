{
 "cells": [
  {
   "cell_type": "code",
   "execution_count": null,
   "metadata": {
    "collapsed": true
   },
   "outputs": [],
   "source": [
    "from scraper import *\n",
    "from downloader import *"
   ]
  },
  {
   "cell_type": "markdown",
   "metadata": {},
   "source": [
    "# 机构"
   ]
  },
  {
   "cell_type": "code",
   "execution_count": null,
   "metadata": {},
   "outputs": [],
   "source": [
    "%%time\n",
    "df_companies = Company().get_company_list(save_to_local=True)"
   ]
  },
  {
   "cell_type": "markdown",
   "metadata": {},
   "source": [
    "# 人员列表\n",
    "所有公司人员列表运行时间\n",
    "1. "
   ]
  },
  {
   "cell_type": "code",
   "execution_count": null,
   "metadata": {
    "collapsed": false,
    "outputHidden": false,
    "inputHidden": false
   },
   "outputs": [],
   "source": [
    "%%time\n",
    "# 单个公司人员列表：不含保存到本地的功能\n",
    "df_people = People().get_people_list(company_ID='1999152')"
   ]
  },
  {
   "cell_type": "code",
   "execution_count": null,
   "metadata": {
    "collapsed": false,
    "outputHidden": true,
    "inputHidden": false
   },
   "outputs": [],
   "source": [
    "%%time\n",
    "# 所有公司人员列表：默认自动保存到本地\n",
    "## 去除：单个公司的df_people的display和tqdm的每页提示；\n",
    "## 保留：总的tqdm和执行到当期的公司名称和页数提示\n",
    "## 提速：降低每页sleep到1.5秒\n",
    "## 稳定性：每爬完一个公司都保存，保证断点续传；放到pickle？\n",
    "df_people_full = People().get_people_list_full(save_to_local=True)"
   ]
  },
  {
   "cell_type": "code",
   "execution_count": null,
   "metadata": {
    "collapsed": false,
    "outputHidden": false,
    "inputHidden": false
   },
   "outputs": [],
   "source": [
    "df_people_full.to_json('列表_从业人员.json',orient='table')"
   ]
  },
  {
   "cell_type": "markdown",
   "metadata": {},
   "source": [
    "# 个人信息\n",
    "只涉及\n",
    "1. 注册变更记录\n",
    "2. 照片路径"
   ]
  },
  {
   "cell_type": "code",
   "execution_count": null,
   "metadata": {
    "collapsed": false,
    "outputHidden": false,
    "inputHidden": false
   },
   "outputs": [],
   "source": [
    "%%time\n",
    "# 保存单个人的照片\n",
    "People().get_person_info_img('76B6EA9DB8E33C0DE053D651A8C06CD1')"
   ]
  },
  {
   "cell_type": "markdown",
   "metadata": {},
   "source": [
    "# 高分妹发掘器"
   ]
  },
  {
   "cell_type": "code",
   "execution_count": null,
   "metadata": {
    "collapsed": false,
    "outputHidden": false,
    "inputHidden": false
   },
   "outputs": [],
   "source": [
    "df_candidates = df_people_full[df_people_full['性别'] == '女'].sort_values(by=['证书取得日期'])\n",
    "# 获得照片路径\n",
    "\n",
    "# 颜值判定：使用腾讯人脸识别API判定魅力\n",
    "\n",
    "# 下载高颜值的女生照片并重命名"
   ]
  },
  {
   "cell_type": "code",
   "execution_count": null,
   "metadata": {
    "collapsed": false,
    "outputHidden": false,
    "inputHidden": false
   },
   "outputs": [],
   "source": [
    "df_candidates"
   ]
  }
 ],
 "metadata": {
  "kernelspec": {
   "name": "python3",
   "language": "python",
   "display_name": "Python 3"
  },
  "language_info": {
   "name": "python",
   "version": "3.6.5",
   "mimetype": "text/x-python",
   "codemirror_mode": {
    "name": "ipython",
    "version": 3
   },
   "pygments_lexer": "ipython3",
   "nbconvert_exporter": "python",
   "file_extension": ".py"
  },
  "kernel_info": {
   "name": "python3"
  },
  "nteract": {
   "version": "0.11.7"
  }
 },
 "nbformat": 4,
 "nbformat_minor": 0
}
